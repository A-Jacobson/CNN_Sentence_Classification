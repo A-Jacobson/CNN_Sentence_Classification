{
 "cells": [
  {
   "cell_type": "code",
   "execution_count": 1,
   "metadata": {
    "collapsed": true
   },
   "outputs": [],
   "source": [
    "%matplotlib inline\n",
    "\n",
    "import torch\n",
    "from torch import nn\n",
    "from torch.autograd import Variable\n",
    "from torch import nn\n",
    "from torch.optim import Adam\n",
    "import matplotlib.pyplot as plt\n",
    "from nltk.corpus import stopwords\n",
    "\n",
    "from datasets import SubjObjDataset\n",
    "from vectorizers import IndexVectorizer\n",
    "from models import SimpleCNN_Rand\n",
    "from train_utils import fit\n",
    "from torch.backends import cudnn"
   ]
  },
  {
   "cell_type": "code",
   "execution_count": 2,
   "metadata": {
    "collapsed": true
   },
   "outputs": [],
   "source": [
    "path = '/home/austin/data/SUBJDATA/'\n",
    "cudnn.benchmark = True"
   ]
  },
  {
   "cell_type": "code",
   "execution_count": 3,
   "metadata": {
    "collapsed": true
   },
   "outputs": [],
   "source": [
    "vectorizer = IndexVectorizer(min_frequency=4)"
   ]
  },
  {
   "cell_type": "code",
   "execution_count": 4,
   "metadata": {
    "collapsed": true
   },
   "outputs": [],
   "source": [
    "train = SubjObjDataset(path+'train.csv', vectorizer)\n",
    "val = SubjObjDataset(path+'val.csv', train.vectorizer)\n",
    "test = SubjObjDataset(path+'test.csv', train.vectorizer)"
   ]
  },
  {
   "cell_type": "code",
   "execution_count": 5,
   "metadata": {},
   "outputs": [
    {
     "data": {
      "text/html": [
       "<div>\n",
       "<style>\n",
       "    .dataframe thead tr:only-child th {\n",
       "        text-align: right;\n",
       "    }\n",
       "\n",
       "    .dataframe thead th {\n",
       "        text-align: left;\n",
       "    }\n",
       "\n",
       "    .dataframe tbody tr th {\n",
       "        vertical-align: top;\n",
       "    }\n",
       "</style>\n",
       "<table border=\"1\" class=\"dataframe\">\n",
       "  <thead>\n",
       "    <tr style=\"text-align: right;\">\n",
       "      <th></th>\n",
       "      <th>sentences</th>\n",
       "      <th>labels</th>\n",
       "      <th>tokens</th>\n",
       "      <th>vectors</th>\n",
       "    </tr>\n",
       "  </thead>\n",
       "  <tbody>\n",
       "    <tr>\n",
       "      <th>0</th>\n",
       "      <td>finally , he gets an offer to make a big film .</td>\n",
       "      <td>subjective</td>\n",
       "      <td>[finally, ,, he, gets, an, offer, to, make, a,...</td>\n",
       "      <td>[2, 3, 4, 5, 6, 7, 8, 9, 10, 11, 12, 13, 1, 1,...</td>\n",
       "    </tr>\n",
       "    <tr>\n",
       "      <th>1</th>\n",
       "      <td>kay has since returned to the comforts of civi...</td>\n",
       "      <td>subjective</td>\n",
       "      <td>[kay, has, since, returned, to, the, comforts,...</td>\n",
       "      <td>[0, 14, 15, 16, 8, 17, 0, 18, 0, 19, 20, 21, 2...</td>\n",
       "    </tr>\n",
       "    <tr>\n",
       "      <th>2</th>\n",
       "      <td>watching the film is like reading a times port...</td>\n",
       "      <td>objective</td>\n",
       "      <td>[watching, the, film, is, like, reading, a, ti...</td>\n",
       "      <td>[38, 17, 12, 39, 40, 41, 10, 42, 43, 18, 44, 3...</td>\n",
       "    </tr>\n",
       "    <tr>\n",
       "      <th>3</th>\n",
       "      <td>in the affable maid in manhattan , jennifer lo...</td>\n",
       "      <td>objective</td>\n",
       "      <td>[in, the, affable, maid, in, manhattan, ,, jen...</td>\n",
       "      <td>[26, 17, 0, 51, 26, 52, 3, 0, 0, 53, 54, 55, 5...</td>\n",
       "    </tr>\n",
       "    <tr>\n",
       "      <th>4</th>\n",
       "      <td>shaun brumder is a local surfer kid from orang...</td>\n",
       "      <td>subjective</td>\n",
       "      <td>[shaun, brumder, is, a, local, surfer, kid, fr...</td>\n",
       "      <td>[0, 0, 39, 10, 68, 0, 69, 70, 0, 71, 48, 72, 1...</td>\n",
       "    </tr>\n",
       "  </tbody>\n",
       "</table>\n",
       "</div>"
      ],
      "text/plain": [
       "                                           sentences      labels  \\\n",
       "0   finally , he gets an offer to make a big film .   subjective   \n",
       "1  kay has since returned to the comforts of civi...  subjective   \n",
       "2  watching the film is like reading a times port...   objective   \n",
       "3  in the affable maid in manhattan , jennifer lo...   objective   \n",
       "4  shaun brumder is a local surfer kid from orang...  subjective   \n",
       "\n",
       "                                              tokens  \\\n",
       "0  [finally, ,, he, gets, an, offer, to, make, a,...   \n",
       "1  [kay, has, since, returned, to, the, comforts,...   \n",
       "2  [watching, the, film, is, like, reading, a, ti...   \n",
       "3  [in, the, affable, maid, in, manhattan, ,, jen...   \n",
       "4  [shaun, brumder, is, a, local, surfer, kid, fr...   \n",
       "\n",
       "                                             vectors  \n",
       "0  [2, 3, 4, 5, 6, 7, 8, 9, 10, 11, 12, 13, 1, 1,...  \n",
       "1  [0, 14, 15, 16, 8, 17, 0, 18, 0, 19, 20, 21, 2...  \n",
       "2  [38, 17, 12, 39, 40, 41, 10, 42, 43, 18, 44, 3...  \n",
       "3  [26, 17, 0, 51, 26, 52, 3, 0, 0, 53, 54, 55, 5...  \n",
       "4  [0, 0, 39, 10, 68, 0, 69, 70, 0, 71, 48, 72, 1...  "
      ]
     },
     "execution_count": 5,
     "metadata": {},
     "output_type": "execute_result"
    }
   ],
   "source": [
    "train.corpus.head()"
   ]
  },
  {
   "cell_type": "code",
   "execution_count": 6,
   "metadata": {},
   "outputs": [
    {
     "data": {
      "text/plain": [
       "SimpleCNN_Rand (\n",
       "  (embedding): Embedding(4235, 50, padding_idx=0)\n",
       "  (conv): MultiKernelConv (\n",
       "    (conv3x1): Conv1d(50, 8, kernel_size=(3,), stride=(1,), padding=(1,))\n",
       "    (conv4x1): Conv1d(50, 8, kernel_size=(4,), stride=(1,), padding=(2,))\n",
       "    (conv5x1): Conv1d(50, 8, kernel_size=(5,), stride=(1,), padding=(2,))\n",
       "  )\n",
       "  (pool): MaxPool1d (size=2, stride=2, padding=0, dilation=1, ceil_mode=False)\n",
       "  (fc): Linear (1248 -> 32)\n",
       "  (dropout): Dropout (p = 0.5)\n",
       "  (output): Linear (32 -> 2)\n",
       ")"
      ]
     },
     "execution_count": 6,
     "metadata": {},
     "output_type": "execute_result"
    }
   ],
   "source": [
    "model = SimpleCNN_Rand(train.vectorizer.vocabulary_size, 50, train.vectorizer.maxlen)\n",
    "model.cuda()"
   ]
  },
  {
   "cell_type": "code",
   "execution_count": 7,
   "metadata": {
    "collapsed": true
   },
   "outputs": [],
   "source": [
    "criterion = nn.CrossEntropyLoss()\n",
    "optimizer = Adam(model.parameters())"
   ]
  },
  {
   "cell_type": "code",
   "execution_count": 8,
   "metadata": {
    "scrolled": true
   },
   "outputs": [
    {
     "name": "stdout",
     "output_type": "stream",
     "text": [
      "Train on 6400 samples, Validate on 1600 samples\n"
     ]
    },
    {
     "data": {
      "application/vnd.jupyter.widget-view+json": {
       "model_id": "029bdbc40a7f4a2bbc13410d12d9b502"
      }
     },
     "metadata": {},
     "output_type": "display_data"
    },
    {
     "data": {
      "application/vnd.jupyter.widget-view+json": {
       "model_id": "627afff5f7ac41489ffa93eba613116f"
      }
     },
     "metadata": {},
     "output_type": "display_data"
    },
    {
     "name": "stdout",
     "output_type": "stream",
     "text": [
      "[Epoch 1 - loss: 0.6461 - acc: 0.6027 - val_loss: 0.4576 - val_acc: 0.7906]\n"
     ]
    },
    {
     "data": {
      "application/vnd.jupyter.widget-view+json": {
       "model_id": "ad3e36eeb5924db9943429a222385bbd"
      }
     },
     "metadata": {},
     "output_type": "display_data"
    },
    {
     "name": "stdout",
     "output_type": "stream",
     "text": [
      "[Epoch 2 - loss: 0.4122 - acc: 0.8170 - val_loss: 0.3251 - val_acc: 0.8631]\n"
     ]
    },
    {
     "data": {
      "application/vnd.jupyter.widget-view+json": {
       "model_id": "c1adee92a9a84349a5d885cacfe678fd"
      }
     },
     "metadata": {},
     "output_type": "display_data"
    },
    {
     "name": "stdout",
     "output_type": "stream",
     "text": [
      "[Epoch 3 - loss: 0.2861 - acc: 0.8862 - val_loss: 0.2923 - val_acc: 0.8725]\n"
     ]
    },
    {
     "data": {
      "application/vnd.jupyter.widget-view+json": {
       "model_id": "1a3d4776af214566bbecc8ad41b8de14"
      }
     },
     "metadata": {},
     "output_type": "display_data"
    },
    {
     "name": "stdout",
     "output_type": "stream",
     "text": [
      "[Epoch 4 - loss: 0.2179 - acc: 0.9217 - val_loss: 0.2940 - val_acc: 0.8744]\n"
     ]
    },
    {
     "data": {
      "application/vnd.jupyter.widget-view+json": {
       "model_id": "7d28564a894c4c1e9d32add51a34cf68"
      }
     },
     "metadata": {},
     "output_type": "display_data"
    },
    {
     "name": "stdout",
     "output_type": "stream",
     "text": [
      "[Epoch 5 - loss: 0.1535 - acc: 0.9470 - val_loss: 0.3278 - val_acc: 0.8688]\n",
      "\n"
     ]
    }
   ],
   "source": [
    "history = fit(model, train, criterion, optimizer, validation_data=val, batch_size=32, nb_epoch=5)"
   ]
  },
  {
   "cell_type": "markdown",
   "metadata": {},
   "source": [
    "## Overfit in 3 epochs with very small model."
   ]
  },
  {
   "cell_type": "code",
   "execution_count": 9,
   "metadata": {},
   "outputs": [
    {
     "data": {
      "image/png": "[encoded data removed]",
      "text/plain": [
       "<matplotlib.figure.Figure at 0x7f886df83be0>"
      ]
     },
     "metadata": {},
     "output_type": "display_data"
    }
   ],
   "source": [
    "plt.plot(history['loss'], label='loss')\n",
    "plt.plot(history['val_loss'], label='validation loss')\n",
    "plt.xlabel('epoch')\n",
    "plt.ylabel('log loss')\n",
    "plt.legend();"
   ]
  },
  {
   "cell_type": "code",
   "execution_count": 10,
   "metadata": {},
   "outputs": [
    {
     "data": {
      "image/png": "[encoded data removed]",
      "text/plain": [
       "<matplotlib.figure.Figure at 0x7f8868b07198>"
      ]
     },
     "metadata": {},
     "output_type": "display_data"
    }
   ],
   "source": [
    "plt.plot(history['acc'], label='accuracy')\n",
    "plt.plot(history['val_acc'], label='validation accuracy')\n",
    "plt.xlabel('epoch')\n",
    "plt.ylabel('accuracy')\n",
    "plt.legend();"
   ]
  },
  {
   "cell_type": "code",
   "execution_count": null,
   "metadata": {
    "collapsed": true
   },
   "outputs": [],
   "source": []
  }
 ],
 "metadata": {
  "kernelspec": {
   "display_name": "Python 3",
   "language": "python",
   "name": "python3"
  },
  "language_info": {
   "codemirror_mode": {
    "name": "ipython",
    "version": 3
   },
   "file_extension": ".py",
   "mimetype": "text/x-python",
   "name": "python",
   "nbconvert_exporter": "python",
   "pygments_lexer": "ipython3",
   "version": "3.6.1"
  },
  "varInspector": {
   "cols": {
    "lenName": 16,
    "lenType": 16,
    "lenVar": 40
   },
   "kernels_config": {
    "python": {
     "delete_cmd_postfix": "",
     "delete_cmd_prefix": "del ",
     "library": "var_list.py",
     "varRefreshCmd": "print(var_dic_list())"
    },
    "r": {
     "delete_cmd_postfix": ") ",
     "delete_cmd_prefix": "rm(",
     "library": "var_list.r",
     "varRefreshCmd": "cat(var_dic_list()) "
    }
   },
   "types_to_exclude": [
    "module",
    "function",
    "builtin_function_or_method",
    "instance",
    "_Feature"
   ],
   "window_display": false
  }
 },
 "nbformat": 4,
 "nbformat_minor": 2
}
