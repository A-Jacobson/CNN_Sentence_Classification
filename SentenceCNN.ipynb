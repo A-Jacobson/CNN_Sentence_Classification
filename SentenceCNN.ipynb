{
 "cells": [
  {
   "cell_type": "code",
   "execution_count": 1,
   "metadata": {
    "collapsed": true
   },
   "outputs": [],
   "source": [
    "%matplotlib inline\n",
    "\n",
    "import torch\n",
    "from torch import nn\n",
    "from torch.autograd import Variable\n",
    "from torch import nn\n",
    "from torch.optim import Adam\n",
    "import matplotlib.pyplot as plt\n",
    "from nltk.corpus import stopwords\n",
    "\n",
    "from datasets import SubjObjDataset\n",
    "from vectorizers import IndexVectorizer\n",
    "from models import TextCNN\n",
    "from train_utils import fit\n",
    "from torch.backends import cudnn\n",
    "from glove_utils import load_glove_embeddings"
   ]
  },
  {
   "cell_type": "code",
   "execution_count": 2,
   "metadata": {
    "collapsed": true
   },
   "outputs": [],
   "source": [
    "data_path = '/home/austin/data/SUBJDATA/'\n",
    "glove_path = '/home/austin/data/glove/glove.6B.50d.txt'\n",
    "cudnn.benchmark = True"
   ]
  },
  {
   "cell_type": "code",
   "execution_count": 3,
   "metadata": {
    "collapsed": true
   },
   "outputs": [],
   "source": [
    "vectorizer = IndexVectorizer(min_frequency=4)"
   ]
  },
  {
   "cell_type": "code",
   "execution_count": 4,
   "metadata": {
    "collapsed": true
   },
   "outputs": [],
   "source": [
    "train = SubjObjDataset(data_path+'train.csv', vectorizer)\n",
    "val = SubjObjDataset(data_path+'val.csv', train.vectorizer)\n",
    "test = SubjObjDataset(data_path+'test.csv', train.vectorizer)"
   ]
  },
  {
   "cell_type": "code",
   "execution_count": 5,
   "metadata": {},
   "outputs": [
    {
     "data": {
      "text/html": [
       "<div>\n",
       "<style>\n",
       "    .dataframe thead tr:only-child th {\n",
       "        text-align: right;\n",
       "    }\n",
       "\n",
       "    .dataframe thead th {\n",
       "        text-align: left;\n",
       "    }\n",
       "\n",
       "    .dataframe tbody tr th {\n",
       "        vertical-align: top;\n",
       "    }\n",
       "</style>\n",
       "<table border=\"1\" class=\"dataframe\">\n",
       "  <thead>\n",
       "    <tr style=\"text-align: right;\">\n",
       "      <th></th>\n",
       "      <th>sentences</th>\n",
       "      <th>labels</th>\n",
       "      <th>tokens</th>\n",
       "      <th>vectors</th>\n",
       "    </tr>\n",
       "  </thead>\n",
       "  <tbody>\n",
       "    <tr>\n",
       "      <th>0</th>\n",
       "      <td>finally , he gets an offer to make a big film .</td>\n",
       "      <td>subjective</td>\n",
       "      <td>[finally, ,, he, gets, an, offer, to, make, a,...</td>\n",
       "      <td>[2, 3, 4, 5, 6, 7, 8, 9, 10, 11, 12, 13, 0, 0,...</td>\n",
       "    </tr>\n",
       "    <tr>\n",
       "      <th>1</th>\n",
       "      <td>kay has since returned to the comforts of civi...</td>\n",
       "      <td>subjective</td>\n",
       "      <td>[kay, has, since, returned, to, the, comforts,...</td>\n",
       "      <td>[0, 14, 15, 16, 8, 17, 0, 18, 0, 19, 20, 21, 2...</td>\n",
       "    </tr>\n",
       "    <tr>\n",
       "      <th>2</th>\n",
       "      <td>watching the film is like reading a times port...</td>\n",
       "      <td>objective</td>\n",
       "      <td>[watching, the, film, is, like, reading, a, ti...</td>\n",
       "      <td>[38, 17, 12, 39, 40, 41, 10, 42, 43, 18, 44, 3...</td>\n",
       "    </tr>\n",
       "    <tr>\n",
       "      <th>3</th>\n",
       "      <td>in the affable maid in manhattan , jennifer lo...</td>\n",
       "      <td>objective</td>\n",
       "      <td>[in, the, affable, maid, in, manhattan, ,, jen...</td>\n",
       "      <td>[26, 17, 0, 51, 26, 52, 3, 0, 0, 53, 54, 55, 5...</td>\n",
       "    </tr>\n",
       "    <tr>\n",
       "      <th>4</th>\n",
       "      <td>shaun brumder is a local surfer kid from orang...</td>\n",
       "      <td>subjective</td>\n",
       "      <td>[shaun, brumder, is, a, local, surfer, kid, fr...</td>\n",
       "      <td>[0, 0, 39, 10, 68, 0, 69, 70, 0, 71, 48, 72, 1...</td>\n",
       "    </tr>\n",
       "  </tbody>\n",
       "</table>\n",
       "</div>"
      ],
      "text/plain": [
       "                                           sentences      labels  \\\n",
       "0   finally , he gets an offer to make a big film .   subjective   \n",
       "1  kay has since returned to the comforts of civi...  subjective   \n",
       "2  watching the film is like reading a times port...   objective   \n",
       "3  in the affable maid in manhattan , jennifer lo...   objective   \n",
       "4  shaun brumder is a local surfer kid from orang...  subjective   \n",
       "\n",
       "                                              tokens  \\\n",
       "0  [finally, ,, he, gets, an, offer, to, make, a,...   \n",
       "1  [kay, has, since, returned, to, the, comforts,...   \n",
       "2  [watching, the, film, is, like, reading, a, ti...   \n",
       "3  [in, the, affable, maid, in, manhattan, ,, jen...   \n",
       "4  [shaun, brumder, is, a, local, surfer, kid, fr...   \n",
       "\n",
       "                                             vectors  \n",
       "0  [2, 3, 4, 5, 6, 7, 8, 9, 10, 11, 12, 13, 0, 0,...  \n",
       "1  [0, 14, 15, 16, 8, 17, 0, 18, 0, 19, 20, 21, 2...  \n",
       "2  [38, 17, 12, 39, 40, 41, 10, 42, 43, 18, 44, 3...  \n",
       "3  [26, 17, 0, 51, 26, 52, 3, 0, 0, 53, 54, 55, 5...  \n",
       "4  [0, 0, 39, 10, 68, 0, 69, 70, 0, 71, 48, 72, 1...  "
      ]
     },
     "execution_count": 5,
     "metadata": {},
     "output_type": "execute_result"
    }
   ],
   "source": [
    "train.corpus.head()"
   ]
  },
  {
   "cell_type": "code",
   "execution_count": 6,
   "metadata": {
    "collapsed": true
   },
   "outputs": [],
   "source": [
    "word2idx = train.vectorizer.word2idx"
   ]
  },
  {
   "cell_type": "code",
   "execution_count": 7,
   "metadata": {},
   "outputs": [],
   "source": [
    "embeddings = load_glove_embeddings(glove_path, word2idx)"
   ]
  },
  {
   "cell_type": "code",
   "execution_count": 8,
   "metadata": {},
   "outputs": [
    {
     "data": {
      "text/plain": [
       "\n",
       " 0.0000  0.0000  0.0000  ...   0.0000  0.0000  0.0000\n",
       " 0.0000  0.0000  0.0000  ...   0.0000  0.0000  0.0000\n",
       " 0.1627 -0.3727 -0.0225  ...  -0.8456 -0.2768 -0.3669\n",
       "          ...             ⋱             ...          \n",
       " 1.1784 -0.1128 -0.8695  ...  -0.5821  0.6375  0.3348\n",
       " 0.0000  0.0000  0.0000  ...   0.0000  0.0000  0.0000\n",
       "-0.4731  0.2630 -0.9713  ...   0.0200 -0.1370  0.4085\n",
       "[torch.FloatTensor of size 4233x50]"
      ]
     },
     "execution_count": 8,
     "metadata": {},
     "output_type": "execute_result"
    }
   ],
   "source": [
    "embeddings"
   ]
  },
  {
   "cell_type": "code",
   "execution_count": 9,
   "metadata": {},
   "outputs": [
    {
     "data": {
      "text/plain": [
       "TextCNN (\n",
       "  (embedding): Embedding(4233, 50, padding_idx=0)\n",
       "  (conv): MultiKernelConv (\n",
       "    (conv3x1): Conv1d(50, 8, kernel_size=(3,), stride=(1,), padding=(1,))\n",
       "    (conv4x1): Conv1d(50, 8, kernel_size=(4,), stride=(1,), padding=(2,))\n",
       "    (conv5x1): Conv1d(50, 8, kernel_size=(5,), stride=(1,), padding=(2,))\n",
       "  )\n",
       "  (pool): MaxPool1d (size=2, stride=2, padding=0, dilation=1, ceil_mode=False)\n",
       "  (fc): Linear (1248 -> 32)\n",
       "  (dropout): Dropout (p = 0.5)\n",
       "  (output): Linear (32 -> 2)\n",
       ")"
      ]
     },
     "execution_count": 9,
     "metadata": {},
     "output_type": "execute_result"
    }
   ],
   "source": [
    "model = TextCNN(train.vectorizer.vocabulary_size, 50, train.vectorizer.maxlen)\n",
    "model.cuda()"
   ]
  },
  {
   "cell_type": "code",
   "execution_count": 10,
   "metadata": {
    "collapsed": true
   },
   "outputs": [],
   "source": [
    "criterion = nn.CrossEntropyLoss()\n",
    "optimizer = Adam(model.parameters())"
   ]
  },
  {
   "cell_type": "code",
   "execution_count": 11,
   "metadata": {
    "scrolled": true
   },
   "outputs": [
    {
     "name": "stdout",
     "output_type": "stream",
     "text": [
      "Train on 6400 samples, Validate on 1600 samples\n"
     ]
    },
    {
     "data": {
      "application/vnd.jupyter.widget-view+json": {
       "model_id": "66df9b5c5bf6484abc9b0eaa89118259"
      }
     },
     "metadata": {},
     "output_type": "display_data"
    },
    {
     "data": {
      "application/vnd.jupyter.widget-view+json": {
       "model_id": "6f4c9b5e01a94f09ba4b4c251e527c22"
      }
     },
     "metadata": {},
     "output_type": "display_data"
    },
    {
     "name": "stdout",
     "output_type": "stream",
     "text": [
      "[Epoch 1 - loss: 0.6009 - acc: 0.6647 - val_loss: 0.4426 - val_acc: 0.7837]\n"
     ]
    },
    {
     "data": {
      "application/vnd.jupyter.widget-view+json": {
       "model_id": "15b63381d5d44867a54f4decd80fcd50"
      }
     },
     "metadata": {},
     "output_type": "display_data"
    },
    {
     "name": "stdout",
     "output_type": "stream",
     "text": [
      "[Epoch 2 - loss: 0.3858 - acc: 0.8356 - val_loss: 0.3656 - val_acc: 0.8275]\n"
     ]
    },
    {
     "data": {
      "application/vnd.jupyter.widget-view+json": {
       "model_id": "f4502d2ae0734e07ab4ffd2a73c25976"
      }
     },
     "metadata": {},
     "output_type": "display_data"
    },
    {
     "name": "stdout",
     "output_type": "stream",
     "text": [
      "[Epoch 3 - loss: 0.2824 - acc: 0.8905 - val_loss: 0.3329 - val_acc: 0.8506]\n"
     ]
    },
    {
     "data": {
      "application/vnd.jupyter.widget-view+json": {
       "model_id": "73bd7d09db3b401687b8ddaa92a6eba3"
      }
     },
     "metadata": {},
     "output_type": "display_data"
    },
    {
     "name": "stdout",
     "output_type": "stream",
     "text": [
      "[Epoch 4 - loss: 0.2094 - acc: 0.9231 - val_loss: 0.3435 - val_acc: 0.8581]\n"
     ]
    },
    {
     "data": {
      "application/vnd.jupyter.widget-view+json": {
       "model_id": "bb0142d1dc1b4cb4b1fd6b2b60bb2f02"
      }
     },
     "metadata": {},
     "output_type": "display_data"
    },
    {
     "name": "stdout",
     "output_type": "stream",
     "text": [
      "[Epoch 5 - loss: 0.1464 - acc: 0.9502 - val_loss: 0.3651 - val_acc: 0.8675]\n",
      "\n"
     ]
    }
   ],
   "source": [
    "history = fit(model, train, criterion, optimizer, validation_data=val, batch_size=32, nb_epoch=5)"
   ]
  },
  {
   "cell_type": "markdown",
   "metadata": {},
   "source": [
    "## Overfit in 3 epochs with very small model."
   ]
  },
  {
   "cell_type": "code",
   "execution_count": 12,
   "metadata": {},
   "outputs": [
    {
     "data": {
      "image/png": "[encoded data removed]",
      "text/plain": [
       "<matplotlib.figure.Figure at 0x7faa2e5ee048>"
      ]
     },
     "metadata": {},
     "output_type": "display_data"
    }
   ],
   "source": [
    "plt.plot(history['loss'], label='loss')\n",
    "plt.plot(history['val_loss'], label='validation loss')\n",
    "plt.xlabel('epoch')\n",
    "plt.ylabel('log loss')\n",
    "plt.legend();"
   ]
  },
  {
   "cell_type": "code",
   "execution_count": 13,
   "metadata": {},
   "outputs": [
    {
     "data": {
      "image/png": "[encoded data removed]",
      "text/plain": [
       "<matplotlib.figure.Figure at 0x7faa1c0630b8>"
      ]
     },
     "metadata": {},
     "output_type": "display_data"
    }
   ],
   "source": [
    "plt.plot(history['acc'], label='accuracy')\n",
    "plt.plot(history['val_acc'], label='validation accuracy')\n",
    "plt.xlabel('epoch')\n",
    "plt.ylabel('accuracy')\n",
    "plt.legend();"
   ]
  },
  {
   "cell_type": "markdown",
   "metadata": {},
   "source": [
    "## Initialize with glove vectors"
   ]
  },
  {
   "cell_type": "code",
   "execution_count": 14,
   "metadata": {},
   "outputs": [
    {
     "data": {
      "text/plain": [
       "TextCNN (\n",
       "  (embedding): Embedding(4233, 50, padding_idx=0)\n",
       "  (conv): MultiKernelConv (\n",
       "    (conv3x1): Conv1d(50, 8, kernel_size=(3,), stride=(1,), padding=(1,))\n",
       "    (conv4x1): Conv1d(50, 8, kernel_size=(4,), stride=(1,), padding=(2,))\n",
       "    (conv5x1): Conv1d(50, 8, kernel_size=(5,), stride=(1,), padding=(2,))\n",
       "  )\n",
       "  (pool): MaxPool1d (size=2, stride=2, padding=0, dilation=1, ceil_mode=False)\n",
       "  (fc): Linear (1248 -> 32)\n",
       "  (dropout): Dropout (p = 0.5)\n",
       "  (output): Linear (32 -> 2)\n",
       ")"
      ]
     },
     "execution_count": 14,
     "metadata": {},
     "output_type": "execute_result"
    }
   ],
   "source": [
    "model = TextCNN(train.vectorizer.vocabulary_size, 50, train.vectorizer.maxlen, embeddings)\n",
    "model.cuda()"
   ]
  },
  {
   "cell_type": "code",
   "execution_count": 15,
   "metadata": {
    "collapsed": true
   },
   "outputs": [],
   "source": [
    "criterion = nn.CrossEntropyLoss()\n",
    "optimizer = Adam(model.parameters())"
   ]
  },
  {
   "cell_type": "code",
   "execution_count": 16,
   "metadata": {},
   "outputs": [
    {
     "name": "stdout",
     "output_type": "stream",
     "text": [
      "Train on 6400 samples, Validate on 1600 samples\n"
     ]
    },
    {
     "data": {
      "application/vnd.jupyter.widget-view+json": {
       "model_id": "68b8d8aaf10f458891432cce0586d5a6"
      }
     },
     "metadata": {},
     "output_type": "display_data"
    },
    {
     "data": {
      "application/vnd.jupyter.widget-view+json": {
       "model_id": "2b9e05026b6c477aa636a4975d348320"
      }
     },
     "metadata": {},
     "output_type": "display_data"
    },
    {
     "name": "stdout",
     "output_type": "stream",
     "text": [
      "[Epoch 1 - loss: 0.4267 - acc: 0.8025 - val_loss: 0.2793 - val_acc: 0.8862]\n"
     ]
    },
    {
     "data": {
      "application/vnd.jupyter.widget-view+json": {
       "model_id": "6381e2acb3334a6682484fbf8bccef6f"
      }
     },
     "metadata": {},
     "output_type": "display_data"
    },
    {
     "name": "stdout",
     "output_type": "stream",
     "text": [
      "[Epoch 2 - loss: 0.2446 - acc: 0.9102 - val_loss: 0.2370 - val_acc: 0.9000]\n"
     ]
    },
    {
     "data": {
      "application/vnd.jupyter.widget-view+json": {
       "model_id": "52d551069e0843639856e7da75af7ed1"
      }
     },
     "metadata": {},
     "output_type": "display_data"
    },
    {
     "name": "stdout",
     "output_type": "stream",
     "text": [
      "[Epoch 3 - loss: 0.1833 - acc: 0.9356 - val_loss: 0.2112 - val_acc: 0.9137]\n"
     ]
    },
    {
     "data": {
      "application/vnd.jupyter.widget-view+json": {
       "model_id": "b79a5ed8b6e943be8c25fd969b7f444e"
      }
     },
     "metadata": {},
     "output_type": "display_data"
    },
    {
     "name": "stdout",
     "output_type": "stream",
     "text": [
      "[Epoch 4 - loss: 0.1281 - acc: 0.9575 - val_loss: 0.2302 - val_acc: 0.9163]\n"
     ]
    },
    {
     "data": {
      "application/vnd.jupyter.widget-view+json": {
       "model_id": "1fcec218aa504fccad28ece48dbc8dae"
      }
     },
     "metadata": {},
     "output_type": "display_data"
    },
    {
     "name": "stdout",
     "output_type": "stream",
     "text": [
      "[Epoch 5 - loss: 0.0905 - acc: 0.9742 - val_loss: 0.2570 - val_acc: 0.9137]\n",
      "\n"
     ]
    }
   ],
   "source": [
    "history = fit(model, train, criterion, optimizer, validation_data=val, batch_size=32, nb_epoch=5)"
   ]
  },
  {
   "cell_type": "markdown",
   "metadata": {},
   "source": [
    "## 91.63 validation accuracy vs 86.75 without glove"
   ]
  },
  {
   "cell_type": "code",
   "execution_count": 17,
   "metadata": {},
   "outputs": [
    {
     "data": {
      "image/png": "[encoded data removed]",
      "text/plain": [
       "<matplotlib.figure.Figure at 0x7faa2e50cdd8>"
      ]
     },
     "metadata": {},
     "output_type": "display_data"
    }
   ],
   "source": [
    "plt.plot(history['loss'], label='loss')\n",
    "plt.plot(history['val_loss'], label='validation loss')\n",
    "plt.xlabel('epoch')\n",
    "plt.ylabel('log loss')\n",
    "plt.legend();"
   ]
  },
  {
   "cell_type": "code",
   "execution_count": 18,
   "metadata": {},
   "outputs": [
    {
     "data": {
      "image/png": "[encoded data removed]",
      "text/plain": [
       "<matplotlib.figure.Figure at 0x7faa140c1ef0>"
      ]
     },
     "metadata": {},
     "output_type": "display_data"
    }
   ],
   "source": [
    "plt.plot(history['acc'], label='accuracy')\n",
    "plt.plot(history['val_acc'], label='validation accuracy')\n",
    "plt.xlabel('epoch')\n",
    "plt.ylabel('accuracy')\n",
    "plt.legend();"
   ]
  },
  {
   "cell_type": "code",
   "execution_count": null,
   "metadata": {
    "collapsed": true
   },
   "outputs": [],
   "source": []
  }
 ],
 "metadata": {
  "kernelspec": {
   "display_name": "Python 3",
   "language": "python",
   "name": "python3"
  },
  "language_info": {
   "codemirror_mode": {
    "name": "ipython",
    "version": 3
   },
   "file_extension": ".py",
   "mimetype": "text/x-python",
   "name": "python",
   "nbconvert_exporter": "python",
   "pygments_lexer": "ipython3",
   "version": "3.6.1"
  },
  "varInspector": {
   "cols": {
    "lenName": 16,
    "lenType": 16,
    "lenVar": 40
   },
   "kernels_config": {
    "python": {
     "delete_cmd_postfix": "",
     "delete_cmd_prefix": "del ",
     "library": "var_list.py",
     "varRefreshCmd": "print(var_dic_list())"
    },
    "r": {
     "delete_cmd_postfix": ") ",
     "delete_cmd_prefix": "rm(",
     "library": "var_list.r",
     "varRefreshCmd": "cat(var_dic_list()) "
    }
   },
   "types_to_exclude": [
    "module",
    "function",
    "builtin_function_or_method",
    "instance",
    "_Feature"
   ],
   "window_display": false
  }
 },
 "nbformat": 4,
 "nbformat_minor": 2
}
