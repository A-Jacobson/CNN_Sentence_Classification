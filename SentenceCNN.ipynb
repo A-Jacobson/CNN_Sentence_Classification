{
 "cells": [
  {
   "cell_type": "code",
   "execution_count": 1,
   "metadata": {
    "collapsed": true
   },
   "outputs": [],
   "source": [
    "import torch\n",
    "from torch import nn\n",
    "from torch.autograd import Variable\n",
    "from torch.utils.data import DataLoader\n",
    "\n",
    "from datasets import SubjObjDataset\n",
    "from vectorizers import IndexVectorizer"
   ]
  },
  {
   "cell_type": "code",
   "execution_count": 2,
   "metadata": {
    "collapsed": true
   },
   "outputs": [],
   "source": [
    "path = '/home/austin/data/SUBJDATA/train.csv'"
   ]
  },
  {
   "cell_type": "code",
   "execution_count": 3,
   "metadata": {
    "collapsed": true
   },
   "outputs": [],
   "source": [
    "vectorizer = IndexVectorizer()"
   ]
  },
  {
   "cell_type": "code",
   "execution_count": 4,
   "metadata": {
    "collapsed": true
   },
   "outputs": [],
   "source": [
    "train = SubjObjDataset(path, vectorizer)"
   ]
  },
  {
   "cell_type": "code",
   "execution_count": 5,
   "metadata": {},
   "outputs": [
    {
     "data": {
      "text/html": [
       "<div>\n",
       "<style>\n",
       "    .dataframe thead tr:only-child th {\n",
       "        text-align: right;\n",
       "    }\n",
       "\n",
       "    .dataframe thead th {\n",
       "        text-align: left;\n",
       "    }\n",
       "\n",
       "    .dataframe tbody tr th {\n",
       "        vertical-align: top;\n",
       "    }\n",
       "</style>\n",
       "<table border=\"1\" class=\"dataframe\">\n",
       "  <thead>\n",
       "    <tr style=\"text-align: right;\">\n",
       "      <th></th>\n",
       "      <th>sentences</th>\n",
       "      <th>labels</th>\n",
       "      <th>tokens</th>\n",
       "      <th>vectors</th>\n",
       "    </tr>\n",
       "  </thead>\n",
       "  <tbody>\n",
       "    <tr>\n",
       "      <th>0</th>\n",
       "      <td>finally , he gets an offer to make a big film .</td>\n",
       "      <td>subjective</td>\n",
       "      <td>[finally, ,, he, gets, an, offer, to, make, a,...</td>\n",
       "      <td>[2, 3, 4, 5, 6, 7, 8, 9, 10, 11, 12, 13, 1, 1,...</td>\n",
       "    </tr>\n",
       "    <tr>\n",
       "      <th>1</th>\n",
       "      <td>kay has since returned to the comforts of civi...</td>\n",
       "      <td>subjective</td>\n",
       "      <td>[kay, has, since, returned, to, the, comforts,...</td>\n",
       "      <td>[14, 15, 16, 17, 8, 18, 19, 20, 21, 22, 23, 24...</td>\n",
       "    </tr>\n",
       "    <tr>\n",
       "      <th>2</th>\n",
       "      <td>watching the film is like reading a times port...</td>\n",
       "      <td>objective</td>\n",
       "      <td>[watching, the, film, is, like, reading, a, ti...</td>\n",
       "      <td>[44, 18, 12, 45, 46, 47, 10, 48, 49, 20, 50, 3...</td>\n",
       "    </tr>\n",
       "    <tr>\n",
       "      <th>3</th>\n",
       "      <td>in the affable maid in manhattan , jennifer lo...</td>\n",
       "      <td>objective</td>\n",
       "      <td>[in, the, affable, maid, in, manhattan, ,, jen...</td>\n",
       "      <td>[29, 18, 58, 59, 29, 60, 3, 61, 62, 63, 64, 65...</td>\n",
       "    </tr>\n",
       "    <tr>\n",
       "      <th>4</th>\n",
       "      <td>shaun brumder is a local surfer kid from orang...</td>\n",
       "      <td>subjective</td>\n",
       "      <td>[shaun, brumder, is, a, local, surfer, kid, fr...</td>\n",
       "      <td>[81, 82, 45, 10, 83, 84, 85, 86, 87, 88, 55, 8...</td>\n",
       "    </tr>\n",
       "  </tbody>\n",
       "</table>\n",
       "</div>"
      ],
      "text/plain": [
       "                                           sentences      labels  \\\n",
       "0   finally , he gets an offer to make a big film .   subjective   \n",
       "1  kay has since returned to the comforts of civi...  subjective   \n",
       "2  watching the film is like reading a times port...   objective   \n",
       "3  in the affable maid in manhattan , jennifer lo...   objective   \n",
       "4  shaun brumder is a local surfer kid from orang...  subjective   \n",
       "\n",
       "                                              tokens  \\\n",
       "0  [finally, ,, he, gets, an, offer, to, make, a,...   \n",
       "1  [kay, has, since, returned, to, the, comforts,...   \n",
       "2  [watching, the, film, is, like, reading, a, ti...   \n",
       "3  [in, the, affable, maid, in, manhattan, ,, jen...   \n",
       "4  [shaun, brumder, is, a, local, surfer, kid, fr...   \n",
       "\n",
       "                                             vectors  \n",
       "0  [2, 3, 4, 5, 6, 7, 8, 9, 10, 11, 12, 13, 1, 1,...  \n",
       "1  [14, 15, 16, 17, 8, 18, 19, 20, 21, 22, 23, 24...  \n",
       "2  [44, 18, 12, 45, 46, 47, 10, 48, 49, 20, 50, 3...  \n",
       "3  [29, 18, 58, 59, 29, 60, 3, 61, 62, 63, 64, 65...  \n",
       "4  [81, 82, 45, 10, 83, 84, 85, 86, 87, 88, 55, 8...  "
      ]
     },
     "execution_count": 5,
     "metadata": {},
     "output_type": "execute_result"
    }
   ],
   "source": [
    "train.corpus.head()"
   ]
  },
  {
   "cell_type": "code",
   "execution_count": 6,
   "metadata": {},
   "outputs": [],
   "source": [
    "vocab_size = train.vectorizer.vocabulary_size"
   ]
  },
  {
   "cell_type": "code",
   "execution_count": 7,
   "metadata": {
    "collapsed": true
   },
   "outputs": [],
   "source": [
    "emb = nn.Embedding(num_embeddings=vocab_size, embedding_dim=50, padding_idx=0)"
   ]
  },
  {
   "cell_type": "code",
   "execution_count": 8,
   "metadata": {},
   "outputs": [
    {
     "data": {
      "text/plain": [
       "6400"
      ]
     },
     "execution_count": 8,
     "metadata": {},
     "output_type": "execute_result"
    }
   ],
   "source": [
    "len(train)"
   ]
  },
  {
   "cell_type": "code",
   "execution_count": 9,
   "metadata": {
    "collapsed": true
   },
   "outputs": [],
   "source": [
    "loader = DataLoader(train, batch_size=32, shuffle=True)"
   ]
  },
  {
   "cell_type": "code",
   "execution_count": 10,
   "metadata": {},
   "outputs": [],
   "source": [
    "sentence, target = next(iter(loader))"
   ]
  },
  {
   "cell_type": "code",
   "execution_count": 11,
   "metadata": {},
   "outputs": [],
   "source": [
    "inp = Variable(sentence)"
   ]
  },
  {
   "cell_type": "code",
   "execution_count": 91,
   "metadata": {},
   "outputs": [],
   "source": [
    "model = SimpleCNN_Rand(vocab_size, 50)"
   ]
  },
  {
   "cell_type": "code",
   "execution_count": 92,
   "metadata": {},
   "outputs": [
    {
     "data": {
      "text/plain": [
       "Variable containing:\n",
       " 0.0975  0.0197\n",
       " 0.2159 -0.0786\n",
       " 0.1949  0.0706\n",
       " 0.1306  0.0814\n",
       " 0.1111 -0.0026\n",
       " 0.1693  0.1368\n",
       " 0.2284  0.2744\n",
       "-0.0083  0.0189\n",
       " 0.1069 -0.0830\n",
       " 0.0994 -0.0921\n",
       " 0.0729 -0.1520\n",
       " 0.2062  0.1749\n",
       " 0.1872 -0.0197\n",
       " 0.0831  0.1189\n",
       "-0.0320 -0.1269\n",
       " 0.1040 -0.0180\n",
       "-0.0757  0.2413\n",
       " 0.1380 -0.1880\n",
       " 0.1693 -0.0315\n",
       " 0.0397 -0.1781\n",
       " 0.0824 -0.1069\n",
       " 0.0809  0.1680\n",
       " 0.1054  0.1270\n",
       "-0.0375  0.0329\n",
       " 0.0047 -0.0447\n",
       " 0.0578 -0.1287\n",
       " 0.0848  0.1839\n",
       " 0.1198  0.1132\n",
       " 0.0749  0.0756\n",
       " 0.2522  0.0845\n",
       " 0.0924  0.1714\n",
       "-0.0062 -0.0343\n",
       "[torch.FloatTensor of size 32x2]"
      ]
     },
     "execution_count": 92,
     "metadata": {},
     "output_type": "execute_result"
    }
   ],
   "source": [
    "model(inp)"
   ]
  },
  {
   "cell_type": "code",
   "execution_count": null,
   "metadata": {
    "collapsed": true
   },
   "outputs": [],
   "source": []
  },
  {
   "cell_type": "code",
   "execution_count": null,
   "metadata": {
    "collapsed": true
   },
   "outputs": [],
   "source": []
  }
 ],
 "metadata": {
  "kernelspec": {
   "display_name": "Python 3",
   "language": "python",
   "name": "python3"
  },
  "language_info": {
   "codemirror_mode": {
    "name": "ipython",
    "version": 3
   },
   "file_extension": ".py",
   "mimetype": "text/x-python",
   "name": "python",
   "nbconvert_exporter": "python",
   "pygments_lexer": "ipython3",
   "version": "3.6.1"
  },
  "varInspector": {
   "cols": {
    "lenName": 16,
    "lenType": 16,
    "lenVar": 40
   },
   "kernels_config": {
    "python": {
     "delete_cmd_postfix": "",
     "delete_cmd_prefix": "del ",
     "library": "var_list.py",
     "varRefreshCmd": "print(var_dic_list())"
    },
    "r": {
     "delete_cmd_postfix": ") ",
     "delete_cmd_prefix": "rm(",
     "library": "var_list.r",
     "varRefreshCmd": "cat(var_dic_list()) "
    }
   },
   "types_to_exclude": [
    "module",
    "function",
    "builtin_function_or_method",
    "instance",
    "_Feature"
   ],
   "window_display": false
  }
 },
 "nbformat": 4,
 "nbformat_minor": 2
}
