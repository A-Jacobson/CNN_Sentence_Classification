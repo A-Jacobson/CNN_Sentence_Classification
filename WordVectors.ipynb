{
 "cells": [
  {
   "cell_type": "code",
   "execution_count": 1,
   "metadata": {
    "collapsed": true
   },
   "outputs": [],
   "source": [
    "from torch import nn\n",
    "from torch.autograd import Variable\n",
    "import torch\n",
    "import numpy as np\n",
    "from vectorizers import IndexVectorizer"
   ]
  },
  {
   "cell_type": "code",
   "execution_count": 2,
   "metadata": {
    "collapsed": true
   },
   "outputs": [],
   "source": [
    "path = '/home/austin/data/glove/glove.6B.50d.txt'"
   ]
  },
  {
   "cell_type": "code",
   "execution_count": 3,
   "metadata": {},
   "outputs": [],
   "source": [
    "def load_glove(path):\n",
    "    \"\"\"\n",
    "    creates a dictionary mapping words to vectors from a file in glove format.\n",
    "    \"\"\"\n",
    "    with open(path) as f:\n",
    "        glove = {}\n",
    "        for line in f.readlines():\n",
    "            values = line.split()\n",
    "            word = values[0]\n",
    "            vector = np.array(values[1:], dtype='float32')\n",
    "            glove[word] = vector\n",
    "        return glove"
   ]
  },
  {
   "cell_type": "code",
   "execution_count": 4,
   "metadata": {},
   "outputs": [
    {
     "name": "stdout",
     "output_type": "stream",
     "text": [
      "CPU times: user 4.44 s, sys: 88 ms, total: 4.53 s\n",
      "Wall time: 4.53 s\n"
     ]
    }
   ],
   "source": [
    "%time glove = load_glove(path)"
   ]
  },
  {
   "cell_type": "code",
   "execution_count": 17,
   "metadata": {},
   "outputs": [
    {
     "data": {
      "text/plain": [
       "array([-0.024577  , -1.83399999, -1.22850001,  0.54042   , -0.016916  ,\n",
       "        0.12066   ,  0.1345    , -0.52304   ,  0.15304001,  0.76068997,\n",
       "        0.030171  ,  0.60457999,  1.59990001,  0.80988002, -0.47312   ,\n",
       "        0.27276   , -0.093521  ,  0.63854998, -0.12045   ,  0.17086001,\n",
       "        0.35631001,  0.88767999,  0.7464    ,  0.20385   ,  0.49239001,\n",
       "        0.53900999, -1.59720004,  0.13677   ,  0.10687   , -0.45141   ,\n",
       "       -0.48381001,  0.72795999, -0.65064001,  1.78670001, -0.53258002,\n",
       "       -0.040884  , -0.26561001, -0.84292001,  0.98361999, -0.84898001,\n",
       "        0.18232   ,  0.48658001, -1.27149999, -0.030098  ,  0.43397999,\n",
       "        0.76433003,  0.19046   , -0.24548   ,  0.83484   ,  0.88134998], dtype=float32)"
      ]
     },
     "execution_count": 17,
     "metadata": {},
     "output_type": "execute_result"
    }
   ],
   "source": [
    "glove['meow']"
   ]
  },
  {
   "cell_type": "code",
   "execution_count": 6,
   "metadata": {
    "collapsed": true
   },
   "outputs": [],
   "source": [
    "vect = IndexVectorizer(maxlen=50)"
   ]
  },
  {
   "cell_type": "code",
   "execution_count": 7,
   "metadata": {
    "collapsed": true
   },
   "outputs": [],
   "source": [
    "path = '/home/austin/data/SUBJDATA/train.csv'"
   ]
  },
  {
   "cell_type": "code",
   "execution_count": 8,
   "metadata": {
    "collapsed": true
   },
   "outputs": [],
   "source": [
    "from datasets import SubjObjDataset"
   ]
  },
  {
   "cell_type": "code",
   "execution_count": 9,
   "metadata": {},
   "outputs": [],
   "source": [
    "vectorizer = IndexVectorizer(start_end_tokens=True)"
   ]
  },
  {
   "cell_type": "code",
   "execution_count": 10,
   "metadata": {},
   "outputs": [],
   "source": [
    "train = SubjObjDataset(path, vectorizer)"
   ]
  },
  {
   "cell_type": "code",
   "execution_count": 11,
   "metadata": {},
   "outputs": [
    {
     "data": {
      "text/plain": [
       "2"
      ]
     },
     "execution_count": 11,
     "metadata": {},
     "output_type": "execute_result"
    }
   ],
   "source": [
    "len(train[0])"
   ]
  },
  {
   "cell_type": "code",
   "execution_count": 12,
   "metadata": {},
   "outputs": [
    {
     "data": {
      "text/html": [
       "<div>\n",
       "<style>\n",
       "    .dataframe thead tr:only-child th {\n",
       "        text-align: right;\n",
       "    }\n",
       "\n",
       "    .dataframe thead th {\n",
       "        text-align: left;\n",
       "    }\n",
       "\n",
       "    .dataframe tbody tr th {\n",
       "        vertical-align: top;\n",
       "    }\n",
       "</style>\n",
       "<table border=\"1\" class=\"dataframe\">\n",
       "  <thead>\n",
       "    <tr style=\"text-align: right;\">\n",
       "      <th></th>\n",
       "      <th>sentences</th>\n",
       "      <th>labels</th>\n",
       "      <th>tokens</th>\n",
       "      <th>vectors</th>\n",
       "    </tr>\n",
       "  </thead>\n",
       "  <tbody>\n",
       "    <tr>\n",
       "      <th>0</th>\n",
       "      <td>finally , he gets an offer to make a big film .</td>\n",
       "      <td>subjective</td>\n",
       "      <td>[finally, ,, he, gets, an, offer, to, make, a,...</td>\n",
       "      <td>[2, 4, 5, 6, 7, 8, 9, 10, 11, 12, 13, 14, 15, ...</td>\n",
       "    </tr>\n",
       "    <tr>\n",
       "      <th>1</th>\n",
       "      <td>kay has since returned to the comforts of civi...</td>\n",
       "      <td>subjective</td>\n",
       "      <td>[kay, has, since, returned, to, the, comforts,...</td>\n",
       "      <td>[2, 16, 17, 18, 19, 10, 20, 21, 22, 23, 24, 25...</td>\n",
       "    </tr>\n",
       "    <tr>\n",
       "      <th>2</th>\n",
       "      <td>watching the film is like reading a times port...</td>\n",
       "      <td>objective</td>\n",
       "      <td>[watching, the, film, is, like, reading, a, ti...</td>\n",
       "      <td>[2, 46, 20, 14, 47, 48, 49, 12, 50, 51, 22, 52...</td>\n",
       "    </tr>\n",
       "    <tr>\n",
       "      <th>3</th>\n",
       "      <td>in the affable maid in manhattan , jennifer lo...</td>\n",
       "      <td>objective</td>\n",
       "      <td>[in, the, affable, maid, in, manhattan, ,, jen...</td>\n",
       "      <td>[2, 31, 20, 60, 61, 31, 62, 5, 63, 64, 65, 66,...</td>\n",
       "    </tr>\n",
       "    <tr>\n",
       "      <th>4</th>\n",
       "      <td>shaun brumder is a local surfer kid from orang...</td>\n",
       "      <td>subjective</td>\n",
       "      <td>[shaun, brumder, is, a, local, surfer, kid, fr...</td>\n",
       "      <td>[2, 83, 84, 47, 12, 85, 86, 87, 88, 89, 90, 57...</td>\n",
       "    </tr>\n",
       "  </tbody>\n",
       "</table>\n",
       "</div>"
      ],
      "text/plain": [
       "                                           sentences      labels  \\\n",
       "0   finally , he gets an offer to make a big film .   subjective   \n",
       "1  kay has since returned to the comforts of civi...  subjective   \n",
       "2  watching the film is like reading a times port...   objective   \n",
       "3  in the affable maid in manhattan , jennifer lo...   objective   \n",
       "4  shaun brumder is a local surfer kid from orang...  subjective   \n",
       "\n",
       "                                              tokens  \\\n",
       "0  [finally, ,, he, gets, an, offer, to, make, a,...   \n",
       "1  [kay, has, since, returned, to, the, comforts,...   \n",
       "2  [watching, the, film, is, like, reading, a, ti...   \n",
       "3  [in, the, affable, maid, in, manhattan, ,, jen...   \n",
       "4  [shaun, brumder, is, a, local, surfer, kid, fr...   \n",
       "\n",
       "                                             vectors  \n",
       "0  [2, 4, 5, 6, 7, 8, 9, 10, 11, 12, 13, 14, 15, ...  \n",
       "1  [2, 16, 17, 18, 19, 10, 20, 21, 22, 23, 24, 25...  \n",
       "2  [2, 46, 20, 14, 47, 48, 49, 12, 50, 51, 22, 52...  \n",
       "3  [2, 31, 20, 60, 61, 31, 62, 5, 63, 64, 65, 66,...  \n",
       "4  [2, 83, 84, 47, 12, 85, 86, 87, 88, 89, 90, 57...  "
      ]
     },
     "execution_count": 12,
     "metadata": {},
     "output_type": "execute_result"
    }
   ],
   "source": [
    "train.corpus.head()"
   ]
  },
  {
   "cell_type": "code",
   "execution_count": null,
   "metadata": {
    "collapsed": true
   },
   "outputs": [],
   "source": []
  }
 ],
 "metadata": {
  "kernelspec": {
   "display_name": "Python 3",
   "language": "python",
   "name": "python3"
  },
  "language_info": {
   "codemirror_mode": {
    "name": "ipython",
    "version": 3
   },
   "file_extension": ".py",
   "mimetype": "text/x-python",
   "name": "python",
   "nbconvert_exporter": "python",
   "pygments_lexer": "ipython3",
   "version": "3.6.1"
  },
  "varInspector": {
   "cols": {
    "lenName": 16,
    "lenType": 16,
    "lenVar": 40
   },
   "kernels_config": {
    "python": {
     "delete_cmd_postfix": "",
     "delete_cmd_prefix": "del ",
     "library": "var_list.py",
     "varRefreshCmd": "print(var_dic_list())"
    },
    "r": {
     "delete_cmd_postfix": ") ",
     "delete_cmd_prefix": "rm(",
     "library": "var_list.r",
     "varRefreshCmd": "cat(var_dic_list()) "
    }
   },
   "types_to_exclude": [
    "module",
    "function",
    "builtin_function_or_method",
    "instance",
    "_Feature"
   ],
   "window_display": false
  }
 },
 "nbformat": 4,
 "nbformat_minor": 2
}
