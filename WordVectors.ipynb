{
 "cells": [
  {
   "cell_type": "markdown",
   "metadata": {},
   "source": [
    "# Loading Glove Vectors in Pytorch"
   ]
  },
  {
   "cell_type": "code",
   "execution_count": 1,
   "metadata": {
    "collapsed": true
   },
   "outputs": [],
   "source": [
    "from torch import nn\n",
    "from torch.autograd import Variable\n",
    "import torch\n",
    "import numpy as np\n",
    "\n",
    "from vectorizers import IndexVectorizer\n",
    "from datasets import SubjObjDataset"
   ]
  },
  {
   "cell_type": "markdown",
   "metadata": {},
   "source": [
    "## Set Paths"
   ]
  },
  {
   "cell_type": "code",
   "execution_count": 25,
   "metadata": {
    "collapsed": true
   },
   "outputs": [],
   "source": [
    "glove_path = '/home/austin/data/glove/glove.6B.50d.txt'\n",
    "data_path = '/home/austin/data/SUBJDATA/train.csv'"
   ]
  },
  {
   "cell_type": "markdown",
   "metadata": {},
   "source": [
    "## Glove helper functions\n",
    "`load_glove` reads the glove.txt file line by line and creates a dictionary mapping words to vectors. For `glove.6B.50d.txt` this dictionary has 400k words each mapped to a 50 dimensional vector. We can use this to check the values of our pytorch embedding layer. When we use glove to initialize pytorch embedding layers we will only load the words in our corpus vocabulary rather than the full 400k. For my corpus, I only needed 19k vectors.\n",
    "\n",
    "`load_glove_embeddings` takes a dictionary mapping words to indexes (must be computed from your training corpus) and returns a matrix of embeddings which we can use to initialize a Pytorch embedding layer."
   ]
  },
  {
   "cell_type": "code",
   "execution_count": 3,
   "metadata": {
    "collapsed": true
   },
   "outputs": [],
   "source": [
    "def load_glove(path):\n",
    "    \"\"\"\n",
    "    creates a dictionary mapping words to vectors from a file in glove format.\n",
    "    \"\"\"\n",
    "    with open(path) as f:\n",
    "        glove = {}\n",
    "        for line in f.readlines():\n",
    "            values = line.split()\n",
    "            word = values[0]\n",
    "            vector = np.array(values[1:], dtype='float32')\n",
    "            glove[word] = vector\n",
    "        return glove"
   ]
  },
  {
   "cell_type": "code",
   "execution_count": 6,
   "metadata": {},
   "outputs": [],
   "source": [
    "def load_glove_embeddings(path, word2idx, embedding_dim=50):\n",
    "    with open(path) as f:\n",
    "        embeddings = np.zeros((len(word2idx), embedding_dim))\n",
    "        for line in f.readlines():\n",
    "            values = line.split()\n",
    "            word = values[0]\n",
    "            index = word2idx.get(word)\n",
    "            if index:\n",
    "                vector = np.array(values[1:], dtype='float32')\n",
    "                embeddings[index] = vector\n",
    "        return torch.from_numpy(embeddings)"
   ]
  },
  {
   "cell_type": "code",
   "execution_count": null,
   "metadata": {
    "collapsed": true
   },
   "outputs": [],
   "source": [
    "%time glove = load_glove(glove_path)"
   ]
  },
  {
   "cell_type": "code",
   "execution_count": 26,
   "metadata": {},
   "outputs": [
    {
     "data": {
      "text/plain": [
       "400000"
      ]
     },
     "execution_count": 26,
     "metadata": {},
     "output_type": "execute_result"
    }
   ],
   "source": [
    "len(glove)"
   ]
  },
  {
   "cell_type": "code",
   "execution_count": 19,
   "metadata": {},
   "outputs": [
    {
     "data": {
      "text/plain": [
       "array([ 0.45280999, -0.50107998, -0.53714001, -0.015697  ,  0.22191   ,\n",
       "        0.54601997, -0.67300999, -0.68910003,  0.63493001, -0.19726001,\n",
       "        0.33684999,  0.77350003,  0.90094   ,  0.38488001,  0.38367   ,\n",
       "        0.26570001, -0.08057   ,  0.61088997, -1.28939998, -0.22313   ,\n",
       "       -0.61578   ,  0.21697   ,  0.35613999,  0.44499001,  0.60885   ,\n",
       "       -1.16330004, -1.15789998,  0.36118001,  0.10466   , -0.78324997,\n",
       "        1.43519998,  0.18629   , -0.26111999,  0.83275002, -0.23123001,\n",
       "        0.32481   ,  0.14485   , -0.44552001,  0.33497   , -0.95946002,\n",
       "       -0.097479  ,  0.48137999, -0.43351999,  0.69454998,  0.91043001,\n",
       "       -0.28173   ,  0.41637   , -1.26090002,  0.71278   ,  0.23782   ], dtype=float32)"
      ]
     },
     "execution_count": 19,
     "metadata": {},
     "output_type": "execute_result"
    }
   ],
   "source": [
    "glove['cat']"
   ]
  },
  {
   "cell_type": "markdown",
   "metadata": {
    "heading_collapsed": true
   },
   "source": [
    "## Toy example"
   ]
  },
  {
   "cell_type": "code",
   "execution_count": 31,
   "metadata": {
    "collapsed": true,
    "hidden": true
   },
   "outputs": [],
   "source": [
    "corpus = 'the cat slept on the mat .'\n",
    "vocab = set(corpus.split()) # compute vocab, 6 words\n",
    "word2idx = {word: idx for idx, word in enumerate(vocab)} # create word index"
   ]
  },
  {
   "cell_type": "code",
   "execution_count": 36,
   "metadata": {
    "hidden": true
   },
   "outputs": [
    {
     "data": {
      "text/plain": [
       "{'.': 5, 'cat': 2, 'mat': 0, 'on': 4, 'slept': 3, 'the': 1}"
      ]
     },
     "execution_count": 36,
     "metadata": {},
     "output_type": "execute_result"
    }
   ],
   "source": [
    "word2idx"
   ]
  },
  {
   "cell_type": "code",
   "execution_count": 33,
   "metadata": {
    "collapsed": true,
    "hidden": true
   },
   "outputs": [],
   "source": [
    "toy_embeddings = load_glove_embeddings(glove_path, word2idx)"
   ]
  },
  {
   "cell_type": "code",
   "execution_count": 39,
   "metadata": {
    "hidden": true
   },
   "outputs": [
    {
     "data": {
      "text/plain": [
       "torch.Size([6, 50])"
      ]
     },
     "execution_count": 39,
     "metadata": {},
     "output_type": "execute_result"
    }
   ],
   "source": [
    "toy_embeddings # 6 words x 60 embedding dimensions\n",
    "toy_embeddings.size()"
   ]
  },
  {
   "cell_type": "markdown",
   "metadata": {
    "heading_collapsed": true,
    "hidden": true
   },
   "source": [
    "### Init pytorch layer"
   ]
  },
  {
   "cell_type": "code",
   "execution_count": 20,
   "metadata": {
    "collapsed": true,
    "hidden": true
   },
   "outputs": [],
   "source": [
    "toy_embedding = nn.Embedding(toy_embeddings.size(0), toy_embeddings.size(1))\n",
    "toy_embedding.weight = nn.Parameter(toy_embeddings)"
   ]
  },
  {
   "cell_type": "code",
   "execution_count": 21,
   "metadata": {
    "hidden": true
   },
   "outputs": [
    {
     "data": {
      "text/plain": [
       "Embedding(6, 50)"
      ]
     },
     "execution_count": 21,
     "metadata": {},
     "output_type": "execute_result"
    }
   ],
   "source": [
    "toy_embedding"
   ]
  },
  {
   "cell_type": "markdown",
   "metadata": {
    "hidden": true
   },
   "source": [
    "Get embedding for 'cat' (index 2)"
   ]
  },
  {
   "cell_type": "code",
   "execution_count": 40,
   "metadata": {
    "hidden": true
   },
   "outputs": [
    {
     "data": {
      "text/plain": [
       "Variable containing:\n",
       "\n",
       "Columns 0 to 9 \n",
       " 0.4528 -0.5011 -0.5371 -0.0157  0.2219  0.5460 -0.6730 -0.6891  0.6349 -0.1973\n",
       "\n",
       "Columns 10 to 19 \n",
       " 0.3368  0.7735  0.9009  0.3849  0.3837  0.2657 -0.0806  0.6109 -1.2894 -0.2231\n",
       "\n",
       "Columns 20 to 29 \n",
       "-0.6158  0.2170  0.3561  0.4450  0.6089 -1.1633 -1.1579  0.3612  0.1047 -0.7832\n",
       "\n",
       "Columns 30 to 39 \n",
       " 1.4352  0.1863 -0.2611  0.8328 -0.2312  0.3248  0.1449 -0.4455  0.3350 -0.9595\n",
       "\n",
       "Columns 40 to 49 \n",
       "-0.0975  0.4814 -0.4335  0.6945  0.9104 -0.2817  0.4164 -1.2609  0.7128  0.2378\n",
       "[torch.DoubleTensor of size 1x50]"
      ]
     },
     "execution_count": 40,
     "metadata": {},
     "output_type": "execute_result"
    }
   ],
   "source": [
    "toy_embedding(Variable(torch.LongTensor([2])))"
   ]
  },
  {
   "cell_type": "markdown",
   "metadata": {
    "hidden": true
   },
   "source": [
    "check against glove vector"
   ]
  },
  {
   "cell_type": "code",
   "execution_count": 41,
   "metadata": {
    "hidden": true
   },
   "outputs": [
    {
     "data": {
      "text/plain": [
       "array([ 0.45280999, -0.50107998, -0.53714001, -0.015697  ,  0.22191   ,\n",
       "        0.54601997, -0.67300999, -0.68910003,  0.63493001, -0.19726001,\n",
       "        0.33684999,  0.77350003,  0.90094   ,  0.38488001,  0.38367   ,\n",
       "        0.26570001, -0.08057   ,  0.61088997, -1.28939998, -0.22313   ,\n",
       "       -0.61578   ,  0.21697   ,  0.35613999,  0.44499001,  0.60885   ,\n",
       "       -1.16330004, -1.15789998,  0.36118001,  0.10466   , -0.78324997,\n",
       "        1.43519998,  0.18629   , -0.26111999,  0.83275002, -0.23123001,\n",
       "        0.32481   ,  0.14485   , -0.44552001,  0.33497   , -0.95946002,\n",
       "       -0.097479  ,  0.48137999, -0.43351999,  0.69454998,  0.91043001,\n",
       "       -0.28173   ,  0.41637   , -1.26090002,  0.71278   ,  0.23782   ], dtype=float32)"
      ]
     },
     "execution_count": 41,
     "metadata": {},
     "output_type": "execute_result"
    }
   ],
   "source": [
    "glove.get('cat')"
   ]
  },
  {
   "cell_type": "markdown",
   "metadata": {
    "heading_collapsed": true,
    "hidden": true
   },
   "source": [
    "### optionally freeze embeddings"
   ]
  },
  {
   "cell_type": "code",
   "execution_count": 64,
   "metadata": {
    "collapsed": true,
    "hidden": true
   },
   "outputs": [],
   "source": [
    "toy_embedding.weight.requires_grad = False"
   ]
  },
  {
   "cell_type": "markdown",
   "metadata": {},
   "source": [
    "## with full sized 2000 document subj/obj dataset"
   ]
  },
  {
   "cell_type": "code",
   "execution_count": 49,
   "metadata": {
    "collapsed": true
   },
   "outputs": [],
   "source": [
    "vectorizer = IndexVectorizer()\n",
    "train = SubjObjDataset(data_path, vectorizer)\n",
    "word2idx = train.vectorizer.word2idx"
   ]
  },
  {
   "cell_type": "code",
   "execution_count": 59,
   "metadata": {},
   "outputs": [
    {
     "data": {
      "text/plain": [
       "(799, 4623)"
      ]
     },
     "execution_count": 59,
     "metadata": {},
     "output_type": "execute_result"
    }
   ],
   "source": [
    "word2idx['fast'], word2idx['sloth']"
   ]
  },
  {
   "cell_type": "code",
   "execution_count": 53,
   "metadata": {},
   "outputs": [],
   "source": [
    "embeddings = load_glove_embeddings(glove_path, word2idx)"
   ]
  },
  {
   "cell_type": "code",
   "execution_count": 55,
   "metadata": {
    "collapsed": true
   },
   "outputs": [],
   "source": [
    "embedding = nn.Embedding(embeddings.size(0), embeddings.size(1), padding_idx=0)\n",
    "embedding.weight = nn.Parameter(embeddings)"
   ]
  },
  {
   "cell_type": "code",
   "execution_count": 60,
   "metadata": {},
   "outputs": [],
   "source": [
    "sentence = Variable(torch.LongTensor([799, 4623]))"
   ]
  },
  {
   "cell_type": "code",
   "execution_count": 61,
   "metadata": {},
   "outputs": [
    {
     "data": {
      "text/plain": [
       "Variable containing:\n",
       "\n",
       "Columns 0 to 9 \n",
       "-0.2078 -0.8048  0.1001 -0.2891 -0.0268 -0.2786 -0.7156 -0.1995  0.8832  0.4722\n",
       " 0.4544  0.0864 -0.7278  0.2280  0.7979  0.7398  0.4147 -1.0603 -0.4207 -0.3668\n",
       "\n",
       "Columns 10 to 19 \n",
       "-0.0274  0.1770 -0.6217  0.4158 -0.1281  0.4110  0.4076 -0.0434 -0.5830 -0.9055\n",
       " 0.1635  1.1258 -0.0999 -0.4772  0.2275  0.3376  0.8762  0.8648 -0.8443  0.3187\n",
       "\n",
       "Columns 20 to 29 \n",
       " 0.0880  0.1283 -0.1299  0.5983  1.0866 -1.0565  0.4097 -0.1253  1.1902  0.5631\n",
       "-1.3000 -0.8056 -0.0405 -0.4911 -0.3854  0.1839 -0.4309  0.8587  0.3448 -0.3127\n",
       "\n",
       "Columns 30 to 39 \n",
       " 3.2721  0.3893  0.3180  0.5927  0.3992 -0.1777 -0.0345  0.7122 -0.6254  0.1130\n",
       "-0.9190  0.5490  0.6777  0.5153 -0.6939  0.6829 -0.9493 -1.2356  0.5153 -0.2031\n",
       "\n",
       "Columns 40 to 49 \n",
       "-0.3679  0.3658 -0.2309  0.3579  0.6080  0.3424  0.4804 -0.5778  0.1787  0.5947\n",
       "-0.0951 -0.2065 -0.4152  0.9467  0.9807  0.0654  0.0235  0.5811  0.1710 -1.0500\n",
       "[torch.DoubleTensor of size 2x50]"
      ]
     },
     "execution_count": 61,
     "metadata": {},
     "output_type": "execute_result"
    }
   ],
   "source": [
    "embedding(sentence)"
   ]
  },
  {
   "cell_type": "code",
   "execution_count": 62,
   "metadata": {},
   "outputs": [
    {
     "data": {
      "text/plain": [
       "array([-0.20784   , -0.80484998,  0.10014   , -0.28913   , -0.02678   ,\n",
       "       -0.27864   , -0.71560001, -0.19953001,  0.88322002,  0.47222999,\n",
       "       -0.027356  ,  0.17704   , -0.62175   ,  0.41580999, -0.12808   ,\n",
       "        0.41097   ,  0.40763   , -0.043396  , -0.58298999, -0.90552002,\n",
       "        0.087957  ,  0.12834001, -0.12993   ,  0.59827   ,  1.08659995,\n",
       "       -1.05649996,  0.40970001, -0.12531   ,  1.19019997,  0.56308001,\n",
       "        3.27209997,  0.38927999,  0.31797999,  0.59271997,  0.39923999,\n",
       "       -0.17766   , -0.034477  ,  0.71217   , -0.62542999,  0.11305   ,\n",
       "       -0.36787999,  0.36579001, -0.23086999,  0.35788   ,  0.60797   ,\n",
       "        0.34241   ,  0.4804    , -0.57778001,  0.17871   ,  0.59465998], dtype=float32)"
      ]
     },
     "execution_count": 62,
     "metadata": {},
     "output_type": "execute_result"
    }
   ],
   "source": [
    "glove.get('fast')"
   ]
  },
  {
   "cell_type": "code",
   "execution_count": 63,
   "metadata": {},
   "outputs": [
    {
     "data": {
      "text/plain": [
       "array([ 0.45442   ,  0.086417  , -0.72779   ,  0.22804999,  0.79790002,\n",
       "        0.73975998,  0.41474   , -1.06029999, -0.42067999, -0.36678001,\n",
       "        0.16350999,  1.12580001, -0.099862  , -0.47716999,  0.22751001,\n",
       "        0.33763   ,  0.87620997,  0.86475998, -0.84430999,  0.31871   ,\n",
       "       -1.29999995, -0.80563003, -0.040519  , -0.49107999, -0.38536999,\n",
       "        0.18391   , -0.43094   ,  0.85870999,  0.3448    , -0.31274   ,\n",
       "       -0.91903001,  0.54904997,  0.67769003,  0.51529998, -0.69395   ,\n",
       "        0.68287998, -0.94928998, -1.23559999,  0.51529998, -0.2031    ,\n",
       "       -0.095143  , -0.20654   , -0.41523999,  0.94669998,  0.98071003,\n",
       "        0.06539   ,  0.023472  ,  0.58108997,  0.17095999, -1.04999995], dtype=float32)"
      ]
     },
     "execution_count": 63,
     "metadata": {},
     "output_type": "execute_result"
    }
   ],
   "source": [
    "glove.get('sloth')"
   ]
  },
  {
   "cell_type": "code",
   "execution_count": null,
   "metadata": {
    "collapsed": true
   },
   "outputs": [],
   "source": []
  }
 ],
 "metadata": {
  "kernelspec": {
   "display_name": "Python 3",
   "language": "python",
   "name": "python3"
  },
  "language_info": {
   "codemirror_mode": {
    "name": "ipython",
    "version": 3
   },
   "file_extension": ".py",
   "mimetype": "text/x-python",
   "name": "python",
   "nbconvert_exporter": "python",
   "pygments_lexer": "ipython3",
   "version": "3.6.1"
  },
  "varInspector": {
   "cols": {
    "lenName": 16,
    "lenType": 16,
    "lenVar": 40
   },
   "kernels_config": {
    "python": {
     "delete_cmd_postfix": "",
     "delete_cmd_prefix": "del ",
     "library": "var_list.py",
     "varRefreshCmd": "print(var_dic_list())"
    },
    "r": {
     "delete_cmd_postfix": ") ",
     "delete_cmd_prefix": "rm(",
     "library": "var_list.r",
     "varRefreshCmd": "cat(var_dic_list()) "
    }
   },
   "types_to_exclude": [
    "module",
    "function",
    "builtin_function_or_method",
    "instance",
    "_Feature"
   ],
   "window_display": false
  }
 },
 "nbformat": 4,
 "nbformat_minor": 2
}
